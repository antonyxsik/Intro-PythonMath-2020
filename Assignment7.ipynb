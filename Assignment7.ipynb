{
 "cells": [
  {
   "cell_type": "markdown",
   "metadata": {
    "collapsed": false
   },
   "source": [
    "## Problem 1: Pandas Syntax (Lectures 18, 19)\n",
    "\n",
    "The purpose of this problem is to reinforce pandas syntax. We will use the `pokemon.csv` file that was introduced in Lecture 18. Start by reading in the `pokemon.csv` file into a pandas dataframe called `pokemon`, as in Lecture 18 (be sure to add in the `index_col` hyperparameter as in lecture!):"
   ]
  },
  {
   "cell_type": "code",
   "execution_count": 1,
   "metadata": {
    "collapsed": false
   },
   "outputs": [],
   "source": [
    "import pandas as pd\n",
    "import matplotlib.pyplot as plt\n",
    "pokemon = pd.read_csv('pokemon.csv', index_col = 1)"
   ]
  },
  {
   "cell_type": "markdown",
   "metadata": {
    "collapsed": false
   },
   "source": [
    "a.)\n",
    "\n",
    "How many pokemon in the dataframe *have only one type*? Namely, how many pokemon *have a Type 1*, but *have no entry for a Type 2*? (There are multiple ways of finding this out)\n",
    "\n"
   ]
  },
  {
   "cell_type": "code",
   "execution_count": 3,
   "metadata": {
    "collapsed": false
   },
   "outputs": [
    {
     "data": {
      "text/plain": [
       "386"
      ]
     },
     "execution_count": 3,
     "metadata": {},
     "output_type": "execute_result"
    }
   ],
   "source": [
    "import math\n",
    "\n",
    "len([i for i in zip(pokemon[\"Type 1\"], pokemon[\"Type 2\"]) if type(i[1]) == float and math.isnan(i[1])])"
   ]
  },
  {
   "cell_type": "markdown",
   "metadata": {
    "collapsed": false
   },
   "source": [
    "b.)\n",
    "\n",
    "Extract a dataframe `attackingWater` consisting of pokemon which \n",
    "- Either have `Type 1` or `Type 2` equal to `'Water'`, *and*\n",
    "- Have a base `Attack` stat *strictly greater than* `110`.\n",
    "\n",
    "Execute `attackingWater.head()` to display the first 5 pokemon of this new dataframe."
   ]
  },
  {
   "cell_type": "code",
   "execution_count": 5,
   "metadata": {
    "collapsed": false
   },
   "outputs": [],
   "source": [
    "attackingWater = pokemon.loc[((pokemon[\"Type 1\"] == \"Water\") | (pokemon[\"Type 2\"] == \"Water\")) & (pokemon[\"Attack\"] > 110)]"
   ]
  },
  {
   "cell_type": "code",
   "execution_count": 6,
   "metadata": {
    "collapsed": false
   },
   "outputs": [
    {
     "data": {
      "text/html": [
       "<div>\n",
       "<style scoped>\n",
       "    .dataframe tbody tr th:only-of-type {\n",
       "        vertical-align: middle;\n",
       "    }\n",
       "\n",
       "    .dataframe tbody tr th {\n",
       "        vertical-align: top;\n",
       "    }\n",
       "\n",
       "    .dataframe thead th {\n",
       "        text-align: right;\n",
       "    }\n",
       "</style>\n",
       "<table border=\"1\" class=\"dataframe\">\n",
       "  <thead>\n",
       "    <tr style=\"text-align: right;\">\n",
       "      <th></th>\n",
       "      <th>#</th>\n",
       "      <th>Type 1</th>\n",
       "      <th>Type 2</th>\n",
       "      <th>Total</th>\n",
       "      <th>HP</th>\n",
       "      <th>Attack</th>\n",
       "      <th>Defense</th>\n",
       "      <th>Sp. Atk</th>\n",
       "      <th>Sp. Def</th>\n",
       "      <th>Speed</th>\n",
       "      <th>Generation</th>\n",
       "      <th>Legendary</th>\n",
       "    </tr>\n",
       "    <tr>\n",
       "      <th>Name</th>\n",
       "      <th></th>\n",
       "      <th></th>\n",
       "      <th></th>\n",
       "      <th></th>\n",
       "      <th></th>\n",
       "      <th></th>\n",
       "      <th></th>\n",
       "      <th></th>\n",
       "      <th></th>\n",
       "      <th></th>\n",
       "      <th></th>\n",
       "      <th></th>\n",
       "    </tr>\n",
       "  </thead>\n",
       "  <tbody>\n",
       "    <tr>\n",
       "      <th>Kingler</th>\n",
       "      <td>99</td>\n",
       "      <td>Water</td>\n",
       "      <td>NaN</td>\n",
       "      <td>475</td>\n",
       "      <td>55</td>\n",
       "      <td>130</td>\n",
       "      <td>115</td>\n",
       "      <td>50</td>\n",
       "      <td>50</td>\n",
       "      <td>75</td>\n",
       "      <td>1</td>\n",
       "      <td>False</td>\n",
       "    </tr>\n",
       "    <tr>\n",
       "      <th>Gyarados</th>\n",
       "      <td>130</td>\n",
       "      <td>Water</td>\n",
       "      <td>Flying</td>\n",
       "      <td>540</td>\n",
       "      <td>95</td>\n",
       "      <td>125</td>\n",
       "      <td>79</td>\n",
       "      <td>60</td>\n",
       "      <td>100</td>\n",
       "      <td>81</td>\n",
       "      <td>1</td>\n",
       "      <td>False</td>\n",
       "    </tr>\n",
       "    <tr>\n",
       "      <th>GyaradosMega Gyarados</th>\n",
       "      <td>130</td>\n",
       "      <td>Water</td>\n",
       "      <td>Dark</td>\n",
       "      <td>640</td>\n",
       "      <td>95</td>\n",
       "      <td>155</td>\n",
       "      <td>109</td>\n",
       "      <td>70</td>\n",
       "      <td>130</td>\n",
       "      <td>81</td>\n",
       "      <td>1</td>\n",
       "      <td>False</td>\n",
       "    </tr>\n",
       "    <tr>\n",
       "      <th>Kabutops</th>\n",
       "      <td>141</td>\n",
       "      <td>Rock</td>\n",
       "      <td>Water</td>\n",
       "      <td>495</td>\n",
       "      <td>60</td>\n",
       "      <td>115</td>\n",
       "      <td>105</td>\n",
       "      <td>65</td>\n",
       "      <td>70</td>\n",
       "      <td>80</td>\n",
       "      <td>1</td>\n",
       "      <td>False</td>\n",
       "    </tr>\n",
       "    <tr>\n",
       "      <th>SwampertMega Swampert</th>\n",
       "      <td>260</td>\n",
       "      <td>Water</td>\n",
       "      <td>Ground</td>\n",
       "      <td>635</td>\n",
       "      <td>100</td>\n",
       "      <td>150</td>\n",
       "      <td>110</td>\n",
       "      <td>95</td>\n",
       "      <td>110</td>\n",
       "      <td>70</td>\n",
       "      <td>3</td>\n",
       "      <td>False</td>\n",
       "    </tr>\n",
       "  </tbody>\n",
       "</table>\n",
       "</div>"
      ],
      "text/plain": [
       "                         # Type 1  Type 2  Total   HP  Attack  Defense  \\\n",
       "Name                                                                     \n",
       "Kingler                 99  Water     NaN    475   55     130      115   \n",
       "Gyarados               130  Water  Flying    540   95     125       79   \n",
       "GyaradosMega Gyarados  130  Water    Dark    640   95     155      109   \n",
       "Kabutops               141   Rock   Water    495   60     115      105   \n",
       "SwampertMega Swampert  260  Water  Ground    635  100     150      110   \n",
       "\n",
       "                       Sp. Atk  Sp. Def  Speed  Generation  Legendary  \n",
       "Name                                                                   \n",
       "Kingler                     50       50     75           1      False  \n",
       "Gyarados                    60      100     81           1      False  \n",
       "GyaradosMega Gyarados       70      130     81           1      False  \n",
       "Kabutops                    65       70     80           1      False  \n",
       "SwampertMega Swampert       95      110     70           3      False  "
      ]
     },
     "execution_count": 6,
     "metadata": {},
     "output_type": "execute_result"
    }
   ],
   "source": [
    "attackingWater.head()"
   ]
  },
  {
   "cell_type": "markdown",
   "metadata": {
    "collapsed": false
   },
   "source": [
    "c.) \n",
    "\n",
    "Which value of `Type 1` has the *quickest* pokemon on average? I.e. if you group pokemon by *their first type*, which group has the highest average speed?"
   ]
  },
  {
   "cell_type": "code",
   "execution_count": 18,
   "metadata": {
    "collapsed": false
   },
   "outputs": [
    {
     "data": {
      "text/html": [
       "<div>\n",
       "<style scoped>\n",
       "    .dataframe tbody tr th:only-of-type {\n",
       "        vertical-align: middle;\n",
       "    }\n",
       "\n",
       "    .dataframe tbody tr th {\n",
       "        vertical-align: top;\n",
       "    }\n",
       "\n",
       "    .dataframe thead th {\n",
       "        text-align: right;\n",
       "    }\n",
       "</style>\n",
       "<table border=\"1\" class=\"dataframe\">\n",
       "  <thead>\n",
       "    <tr style=\"text-align: right;\">\n",
       "      <th></th>\n",
       "      <th>#</th>\n",
       "      <th>Total</th>\n",
       "      <th>HP</th>\n",
       "      <th>Attack</th>\n",
       "      <th>Defense</th>\n",
       "      <th>Sp. Atk</th>\n",
       "      <th>Sp. Def</th>\n",
       "      <th>Speed</th>\n",
       "      <th>Generation</th>\n",
       "      <th>Legendary</th>\n",
       "    </tr>\n",
       "    <tr>\n",
       "      <th>Type 1</th>\n",
       "      <th></th>\n",
       "      <th></th>\n",
       "      <th></th>\n",
       "      <th></th>\n",
       "      <th></th>\n",
       "      <th></th>\n",
       "      <th></th>\n",
       "      <th></th>\n",
       "      <th></th>\n",
       "      <th></th>\n",
       "    </tr>\n",
       "  </thead>\n",
       "  <tbody>\n",
       "    <tr>\n",
       "      <th>Flying</th>\n",
       "      <td>677.750000</td>\n",
       "      <td>485.000000</td>\n",
       "      <td>70.750000</td>\n",
       "      <td>78.750000</td>\n",
       "      <td>66.250000</td>\n",
       "      <td>94.250000</td>\n",
       "      <td>72.500000</td>\n",
       "      <td>102.500000</td>\n",
       "      <td>5.500000</td>\n",
       "      <td>0.500000</td>\n",
       "    </tr>\n",
       "    <tr>\n",
       "      <th>Electric</th>\n",
       "      <td>363.500000</td>\n",
       "      <td>443.409091</td>\n",
       "      <td>59.795455</td>\n",
       "      <td>69.090909</td>\n",
       "      <td>66.295455</td>\n",
       "      <td>90.022727</td>\n",
       "      <td>73.704545</td>\n",
       "      <td>84.500000</td>\n",
       "      <td>3.272727</td>\n",
       "      <td>0.090909</td>\n",
       "    </tr>\n",
       "    <tr>\n",
       "      <th>Dragon</th>\n",
       "      <td>474.375000</td>\n",
       "      <td>550.531250</td>\n",
       "      <td>83.312500</td>\n",
       "      <td>112.125000</td>\n",
       "      <td>86.375000</td>\n",
       "      <td>96.843750</td>\n",
       "      <td>88.843750</td>\n",
       "      <td>83.031250</td>\n",
       "      <td>3.875000</td>\n",
       "      <td>0.375000</td>\n",
       "    </tr>\n",
       "    <tr>\n",
       "      <th>Psychic</th>\n",
       "      <td>380.807018</td>\n",
       "      <td>475.947368</td>\n",
       "      <td>70.631579</td>\n",
       "      <td>71.456140</td>\n",
       "      <td>67.684211</td>\n",
       "      <td>98.403509</td>\n",
       "      <td>86.280702</td>\n",
       "      <td>81.491228</td>\n",
       "      <td>3.385965</td>\n",
       "      <td>0.245614</td>\n",
       "    </tr>\n",
       "    <tr>\n",
       "      <th>Dark</th>\n",
       "      <td>461.354839</td>\n",
       "      <td>445.741935</td>\n",
       "      <td>66.806452</td>\n",
       "      <td>88.387097</td>\n",
       "      <td>70.225806</td>\n",
       "      <td>74.645161</td>\n",
       "      <td>69.516129</td>\n",
       "      <td>76.161290</td>\n",
       "      <td>4.032258</td>\n",
       "      <td>0.064516</td>\n",
       "    </tr>\n",
       "  </tbody>\n",
       "</table>\n",
       "</div>"
      ],
      "text/plain": [
       "                   #       Total         HP      Attack    Defense    Sp. Atk  \\\n",
       "Type 1                                                                          \n",
       "Flying    677.750000  485.000000  70.750000   78.750000  66.250000  94.250000   \n",
       "Electric  363.500000  443.409091  59.795455   69.090909  66.295455  90.022727   \n",
       "Dragon    474.375000  550.531250  83.312500  112.125000  86.375000  96.843750   \n",
       "Psychic   380.807018  475.947368  70.631579   71.456140  67.684211  98.403509   \n",
       "Dark      461.354839  445.741935  66.806452   88.387097  70.225806  74.645161   \n",
       "\n",
       "            Sp. Def       Speed  Generation  Legendary  \n",
       "Type 1                                                  \n",
       "Flying    72.500000  102.500000    5.500000   0.500000  \n",
       "Electric  73.704545   84.500000    3.272727   0.090909  \n",
       "Dragon    88.843750   83.031250    3.875000   0.375000  \n",
       "Psychic   86.280702   81.491228    3.385965   0.245614  \n",
       "Dark      69.516129   76.161290    4.032258   0.064516  "
      ]
     },
     "execution_count": 18,
     "metadata": {},
     "output_type": "execute_result"
    }
   ],
   "source": [
    "pokemon.groupby([\"Type 1\"]).mean().sort_values(\"Speed\", ascending = False).head()"
   ]
  },
  {
   "cell_type": "markdown",
   "metadata": {
    "collapsed": false
   },
   "source": [
    "d.) \n",
    "\n",
    "Change your `pokemon` dataframe so that any pokemon from Generation 1 is automatically considered Legendary. After making this change, print out the new row corresponding to `Pikachu` and to `Donphan` to verify the change happened correctly."
   ]
  },
  {
   "cell_type": "code",
   "execution_count": 33,
   "metadata": {
    "collapsed": false
   },
   "outputs": [
    {
     "data": {
      "text/html": [
       "<div>\n",
       "<style scoped>\n",
       "    .dataframe tbody tr th:only-of-type {\n",
       "        vertical-align: middle;\n",
       "    }\n",
       "\n",
       "    .dataframe tbody tr th {\n",
       "        vertical-align: top;\n",
       "    }\n",
       "\n",
       "    .dataframe thead th {\n",
       "        text-align: right;\n",
       "    }\n",
       "</style>\n",
       "<table border=\"1\" class=\"dataframe\">\n",
       "  <thead>\n",
       "    <tr style=\"text-align: right;\">\n",
       "      <th></th>\n",
       "      <th>#</th>\n",
       "      <th>Type 1</th>\n",
       "      <th>Type 2</th>\n",
       "      <th>Total</th>\n",
       "      <th>HP</th>\n",
       "      <th>Attack</th>\n",
       "      <th>Defense</th>\n",
       "      <th>Sp. Atk</th>\n",
       "      <th>Sp. Def</th>\n",
       "      <th>Speed</th>\n",
       "      <th>Generation</th>\n",
       "      <th>Legendary</th>\n",
       "    </tr>\n",
       "    <tr>\n",
       "      <th>Name</th>\n",
       "      <th></th>\n",
       "      <th></th>\n",
       "      <th></th>\n",
       "      <th></th>\n",
       "      <th></th>\n",
       "      <th></th>\n",
       "      <th></th>\n",
       "      <th></th>\n",
       "      <th></th>\n",
       "      <th></th>\n",
       "      <th></th>\n",
       "      <th></th>\n",
       "    </tr>\n",
       "  </thead>\n",
       "  <tbody>\n",
       "    <tr>\n",
       "      <th>Pikachu</th>\n",
       "      <td>25</td>\n",
       "      <td>Electric</td>\n",
       "      <td>NaN</td>\n",
       "      <td>320</td>\n",
       "      <td>35</td>\n",
       "      <td>55</td>\n",
       "      <td>40</td>\n",
       "      <td>50</td>\n",
       "      <td>50</td>\n",
       "      <td>90</td>\n",
       "      <td>1</td>\n",
       "      <td>True</td>\n",
       "    </tr>\n",
       "    <tr>\n",
       "      <th>Donphan</th>\n",
       "      <td>232</td>\n",
       "      <td>Ground</td>\n",
       "      <td>NaN</td>\n",
       "      <td>500</td>\n",
       "      <td>90</td>\n",
       "      <td>120</td>\n",
       "      <td>120</td>\n",
       "      <td>60</td>\n",
       "      <td>60</td>\n",
       "      <td>50</td>\n",
       "      <td>2</td>\n",
       "      <td>False</td>\n",
       "    </tr>\n",
       "  </tbody>\n",
       "</table>\n",
       "</div>"
      ],
      "text/plain": [
       "           #    Type 1 Type 2  Total  HP  Attack  Defense  Sp. Atk  Sp. Def  \\\n",
       "Name                                                                          \n",
       "Pikachu   25  Electric    NaN    320  35      55       40       50       50   \n",
       "Donphan  232    Ground    NaN    500  90     120      120       60       60   \n",
       "\n",
       "         Speed Generation  Legendary  \n",
       "Name                                  \n",
       "Pikachu     90          1       True  \n",
       "Donphan     50          2      False  "
      ]
     },
     "execution_count": 33,
     "metadata": {},
     "output_type": "execute_result"
    }
   ],
   "source": [
    "pokemon.loc[pokemon[\"Generation\"] == 1, \"Legendary\"] = True\n",
    "pokemon.loc[[\"Pikachu\", \"Donphan\"]]"
   ]
  },
  {
   "cell_type": "markdown",
   "metadata": {
    "collapsed": false
   },
   "source": [
    "## Problem 2: Pipelines and Data Processing (Lectures 18, 19)\n",
    "\n",
    "The purpose of this problem is to study the yearly \"bonuses\" paid out to employees in a hypothetical company. The file `bonuses.csv` contains data for this company's employees; I have read it into a pandas DataFrame below:"
   ]
  },
  {
   "cell_type": "code",
   "execution_count": 34,
   "metadata": {
    "collapsed": false
   },
   "outputs": [
    {
     "data": {
      "text/html": [
       "<div>\n",
       "<style scoped>\n",
       "    .dataframe tbody tr th:only-of-type {\n",
       "        vertical-align: middle;\n",
       "    }\n",
       "\n",
       "    .dataframe tbody tr th {\n",
       "        vertical-align: top;\n",
       "    }\n",
       "\n",
       "    .dataframe thead th {\n",
       "        text-align: right;\n",
       "    }\n",
       "</style>\n",
       "<table border=\"1\" class=\"dataframe\">\n",
       "  <thead>\n",
       "    <tr style=\"text-align: right;\">\n",
       "      <th></th>\n",
       "      <th>Bonus</th>\n",
       "      <th>PerformanceReview</th>\n",
       "      <th>Salary</th>\n",
       "      <th>OvertimeWorked</th>\n",
       "    </tr>\n",
       "  </thead>\n",
       "  <tbody>\n",
       "    <tr>\n",
       "      <th>0</th>\n",
       "      <td>43546</td>\n",
       "      <td>Good</td>\n",
       "      <td>149986.0</td>\n",
       "      <td>18</td>\n",
       "    </tr>\n",
       "    <tr>\n",
       "      <th>1</th>\n",
       "      <td>19161</td>\n",
       "      <td>Average</td>\n",
       "      <td>78218.0</td>\n",
       "      <td>8</td>\n",
       "    </tr>\n",
       "    <tr>\n",
       "      <th>2</th>\n",
       "      <td>24716</td>\n",
       "      <td>Bad</td>\n",
       "      <td>NaN</td>\n",
       "      <td>19</td>\n",
       "    </tr>\n",
       "    <tr>\n",
       "      <th>3</th>\n",
       "      <td>39422</td>\n",
       "      <td>Good</td>\n",
       "      <td>207102.0</td>\n",
       "      <td>4</td>\n",
       "    </tr>\n",
       "    <tr>\n",
       "      <th>4</th>\n",
       "      <td>36285</td>\n",
       "      <td>Average</td>\n",
       "      <td>198761.0</td>\n",
       "      <td>4</td>\n",
       "    </tr>\n",
       "  </tbody>\n",
       "</table>\n",
       "</div>"
      ],
      "text/plain": [
       "   Bonus  PerformanceReview    Salary   OvertimeWorked \n",
       "0  43546               Good  149986.0                18\n",
       "1  19161            Average   78218.0                 8\n",
       "2  24716                Bad       NaN                19\n",
       "3  39422               Good  207102.0                 4\n",
       "4  36285            Average  198761.0                 4"
      ]
     },
     "execution_count": 34,
     "metadata": {},
     "output_type": "execute_result"
    }
   ],
   "source": [
    "import pandas as pd\n",
    "df = pd.read_csv('bonuses.csv')\n",
    "df.head()"
   ]
  },
  {
   "cell_type": "markdown",
   "metadata": {
    "collapsed": false
   },
   "source": [
    "a.) There are 75 missing salaries in the dataframe. Impute these values by replacing the null entries with the *mean salary* in this company."
   ]
  },
  {
   "cell_type": "code",
   "execution_count": 43,
   "metadata": {
    "collapsed": false
   },
   "outputs": [
    {
     "name": "stdout",
     "output_type": "stream",
     "text": [
      "148512.38594594595\n"
     ]
    }
   ],
   "source": [
    "avgSalary = df[\" Salary\"].mean()\n",
    "print(avgSalary)\n",
    "#df.loc[df[\" Salary\"] == NaN, \"Salary\"] = avgSalary\n",
    "df.loc[[math.isnan(entry) == True for entry in df[\" Salary\"]], \" Salary\"] = avgSalary"
   ]
  },
  {
   "cell_type": "code",
   "execution_count": 44,
   "metadata": {
    "collapsed": false
   },
   "outputs": [
    {
     "data": {
      "text/html": [
       "<div>\n",
       "<style scoped>\n",
       "    .dataframe tbody tr th:only-of-type {\n",
       "        vertical-align: middle;\n",
       "    }\n",
       "\n",
       "    .dataframe tbody tr th {\n",
       "        vertical-align: top;\n",
       "    }\n",
       "\n",
       "    .dataframe thead th {\n",
       "        text-align: right;\n",
       "    }\n",
       "</style>\n",
       "<table border=\"1\" class=\"dataframe\">\n",
       "  <thead>\n",
       "    <tr style=\"text-align: right;\">\n",
       "      <th></th>\n",
       "      <th>Bonus</th>\n",
       "      <th>PerformanceReview</th>\n",
       "      <th>Salary</th>\n",
       "      <th>OvertimeWorked</th>\n",
       "    </tr>\n",
       "  </thead>\n",
       "  <tbody>\n",
       "    <tr>\n",
       "      <th>0</th>\n",
       "      <td>43546</td>\n",
       "      <td>Good</td>\n",
       "      <td>149986.000000</td>\n",
       "      <td>18</td>\n",
       "    </tr>\n",
       "    <tr>\n",
       "      <th>1</th>\n",
       "      <td>19161</td>\n",
       "      <td>Average</td>\n",
       "      <td>78218.000000</td>\n",
       "      <td>8</td>\n",
       "    </tr>\n",
       "    <tr>\n",
       "      <th>2</th>\n",
       "      <td>24716</td>\n",
       "      <td>Bad</td>\n",
       "      <td>148512.385946</td>\n",
       "      <td>19</td>\n",
       "    </tr>\n",
       "    <tr>\n",
       "      <th>3</th>\n",
       "      <td>39422</td>\n",
       "      <td>Good</td>\n",
       "      <td>207102.000000</td>\n",
       "      <td>4</td>\n",
       "    </tr>\n",
       "    <tr>\n",
       "      <th>4</th>\n",
       "      <td>36285</td>\n",
       "      <td>Average</td>\n",
       "      <td>198761.000000</td>\n",
       "      <td>4</td>\n",
       "    </tr>\n",
       "  </tbody>\n",
       "</table>\n",
       "</div>"
      ],
      "text/plain": [
       "   Bonus  PerformanceReview         Salary   OvertimeWorked \n",
       "0  43546               Good  149986.000000                18\n",
       "1  19161            Average   78218.000000                 8\n",
       "2  24716                Bad  148512.385946                19\n",
       "3  39422               Good  207102.000000                 4\n",
       "4  36285            Average  198761.000000                 4"
      ]
     },
     "execution_count": 44,
     "metadata": {},
     "output_type": "execute_result"
    }
   ],
   "source": [
    "df.head()"
   ]
  },
  {
   "cell_type": "markdown",
   "metadata": {
    "collapsed": false
   },
   "source": [
    "b.) Create and add a new `NumPerformanceReview` column to the dataframe. This new column should turn the *categorical data* in the `PerformanceReview` column into *numeric data* by using Scikit Learn's *ordinal encoder* (which has already been imported for you)."
   ]
  },
  {
   "cell_type": "code",
   "execution_count": 47,
   "metadata": {
    "collapsed": false
   },
   "outputs": [],
   "source": [
    "from sklearn.preprocessing import OrdinalEncoder\n",
    "enc = OrdinalEncoder(categories = [[\"Bad\", \"Average\", \"Good\"]])\n",
    "performance = df[[\" PerformanceReview\"]]\n",
    "enc.fit(performance)\n",
    "df[\"NumPerformanceReview\"] = enc.fit_transform(performance)"
   ]
  },
  {
   "cell_type": "code",
   "execution_count": 48,
   "metadata": {
    "collapsed": false
   },
   "outputs": [
    {
     "data": {
      "text/html": [
       "<div>\n",
       "<style scoped>\n",
       "    .dataframe tbody tr th:only-of-type {\n",
       "        vertical-align: middle;\n",
       "    }\n",
       "\n",
       "    .dataframe tbody tr th {\n",
       "        vertical-align: top;\n",
       "    }\n",
       "\n",
       "    .dataframe thead th {\n",
       "        text-align: right;\n",
       "    }\n",
       "</style>\n",
       "<table border=\"1\" class=\"dataframe\">\n",
       "  <thead>\n",
       "    <tr style=\"text-align: right;\">\n",
       "      <th></th>\n",
       "      <th>Bonus</th>\n",
       "      <th>PerformanceReview</th>\n",
       "      <th>Salary</th>\n",
       "      <th>OvertimeWorked</th>\n",
       "      <th>NumPerformanceReview</th>\n",
       "    </tr>\n",
       "  </thead>\n",
       "  <tbody>\n",
       "    <tr>\n",
       "      <th>0</th>\n",
       "      <td>43546</td>\n",
       "      <td>Good</td>\n",
       "      <td>149986.000000</td>\n",
       "      <td>18</td>\n",
       "      <td>2.0</td>\n",
       "    </tr>\n",
       "    <tr>\n",
       "      <th>1</th>\n",
       "      <td>19161</td>\n",
       "      <td>Average</td>\n",
       "      <td>78218.000000</td>\n",
       "      <td>8</td>\n",
       "      <td>1.0</td>\n",
       "    </tr>\n",
       "    <tr>\n",
       "      <th>2</th>\n",
       "      <td>24716</td>\n",
       "      <td>Bad</td>\n",
       "      <td>148512.385946</td>\n",
       "      <td>19</td>\n",
       "      <td>0.0</td>\n",
       "    </tr>\n",
       "    <tr>\n",
       "      <th>3</th>\n",
       "      <td>39422</td>\n",
       "      <td>Good</td>\n",
       "      <td>207102.000000</td>\n",
       "      <td>4</td>\n",
       "      <td>2.0</td>\n",
       "    </tr>\n",
       "    <tr>\n",
       "      <th>4</th>\n",
       "      <td>36285</td>\n",
       "      <td>Average</td>\n",
       "      <td>198761.000000</td>\n",
       "      <td>4</td>\n",
       "      <td>1.0</td>\n",
       "    </tr>\n",
       "  </tbody>\n",
       "</table>\n",
       "</div>"
      ],
      "text/plain": [
       "   Bonus  PerformanceReview         Salary   OvertimeWorked   \\\n",
       "0  43546               Good  149986.000000                18   \n",
       "1  19161            Average   78218.000000                 8   \n",
       "2  24716                Bad  148512.385946                19   \n",
       "3  39422               Good  207102.000000                 4   \n",
       "4  36285            Average  198761.000000                 4   \n",
       "\n",
       "   NumPerformanceReview  \n",
       "0                   2.0  \n",
       "1                   1.0  \n",
       "2                   0.0  \n",
       "3                   2.0  \n",
       "4                   1.0  "
      ]
     },
     "execution_count": 48,
     "metadata": {},
     "output_type": "execute_result"
    }
   ],
   "source": [
    "df.head()"
   ]
  },
  {
   "cell_type": "markdown",
   "metadata": {
    "collapsed": false
   },
   "source": [
    "c.) Create and add a new column `SalaryOvertime` consisting of an *interaction term* between the `Salary` and `OvertimeWorked` column. Namely, the ith entry in `SalaryOvertime` should simply be the *product* of the ith entries in `Salary` and `OvertimeWorked`."
   ]
  },
  {
   "cell_type": "code",
   "execution_count": 55,
   "metadata": {
    "collapsed": false
   },
   "outputs": [],
   "source": [
    "df[\"SalaryOvertime\"] = df[\" Salary\"] * df[\" OvertimeWorked \"]"
   ]
  },
  {
   "cell_type": "code",
   "execution_count": 56,
   "metadata": {
    "collapsed": false
   },
   "outputs": [
    {
     "data": {
      "text/html": [
       "<div>\n",
       "<style scoped>\n",
       "    .dataframe tbody tr th:only-of-type {\n",
       "        vertical-align: middle;\n",
       "    }\n",
       "\n",
       "    .dataframe tbody tr th {\n",
       "        vertical-align: top;\n",
       "    }\n",
       "\n",
       "    .dataframe thead th {\n",
       "        text-align: right;\n",
       "    }\n",
       "</style>\n",
       "<table border=\"1\" class=\"dataframe\">\n",
       "  <thead>\n",
       "    <tr style=\"text-align: right;\">\n",
       "      <th></th>\n",
       "      <th>Bonus</th>\n",
       "      <th>PerformanceReview</th>\n",
       "      <th>Salary</th>\n",
       "      <th>OvertimeWorked</th>\n",
       "      <th>NumPerformanceReview</th>\n",
       "      <th>SalaryOvertime</th>\n",
       "    </tr>\n",
       "  </thead>\n",
       "  <tbody>\n",
       "    <tr>\n",
       "      <th>0</th>\n",
       "      <td>43546</td>\n",
       "      <td>Good</td>\n",
       "      <td>149986.000000</td>\n",
       "      <td>18</td>\n",
       "      <td>2.0</td>\n",
       "      <td>2.699748e+06</td>\n",
       "    </tr>\n",
       "    <tr>\n",
       "      <th>1</th>\n",
       "      <td>19161</td>\n",
       "      <td>Average</td>\n",
       "      <td>78218.000000</td>\n",
       "      <td>8</td>\n",
       "      <td>1.0</td>\n",
       "      <td>6.257440e+05</td>\n",
       "    </tr>\n",
       "    <tr>\n",
       "      <th>2</th>\n",
       "      <td>24716</td>\n",
       "      <td>Bad</td>\n",
       "      <td>148512.385946</td>\n",
       "      <td>19</td>\n",
       "      <td>0.0</td>\n",
       "      <td>2.821735e+06</td>\n",
       "    </tr>\n",
       "    <tr>\n",
       "      <th>3</th>\n",
       "      <td>39422</td>\n",
       "      <td>Good</td>\n",
       "      <td>207102.000000</td>\n",
       "      <td>4</td>\n",
       "      <td>2.0</td>\n",
       "      <td>8.284080e+05</td>\n",
       "    </tr>\n",
       "    <tr>\n",
       "      <th>4</th>\n",
       "      <td>36285</td>\n",
       "      <td>Average</td>\n",
       "      <td>198761.000000</td>\n",
       "      <td>4</td>\n",
       "      <td>1.0</td>\n",
       "      <td>7.950440e+05</td>\n",
       "    </tr>\n",
       "  </tbody>\n",
       "</table>\n",
       "</div>"
      ],
      "text/plain": [
       "   Bonus  PerformanceReview         Salary   OvertimeWorked   \\\n",
       "0  43546               Good  149986.000000                18   \n",
       "1  19161            Average   78218.000000                 8   \n",
       "2  24716                Bad  148512.385946                19   \n",
       "3  39422               Good  207102.000000                 4   \n",
       "4  36285            Average  198761.000000                 4   \n",
       "\n",
       "   NumPerformanceReview  SalaryOvertime  \n",
       "0                   2.0    2.699748e+06  \n",
       "1                   1.0    6.257440e+05  \n",
       "2                   0.0    2.821735e+06  \n",
       "3                   2.0    8.284080e+05  \n",
       "4                   1.0    7.950440e+05  "
      ]
     },
     "execution_count": 56,
     "metadata": {},
     "output_type": "execute_result"
    }
   ],
   "source": [
    "df.head()"
   ]
  },
  {
   "cell_type": "markdown",
   "metadata": {
    "collapsed": false
   },
   "source": [
    "d.) Run a regression to fit a linear model of the form\n",
    "$$\n",
    "bonus = \\beta_0 + \\beta_1*salary + \\beta_2*NumPerformanceReview + \\beta_3*OvertimeWorked + \\beta_4*SalaryOvertime.\n",
    "$$\n",
    "Write the coefficients in the markdown cell below the code cell."
   ]
  },
  {
   "cell_type": "code",
   "execution_count": 58,
   "metadata": {
    "collapsed": false
   },
   "outputs": [
    {
     "data": {
      "text/plain": [
       "(array([1.03950122e-01, 4.66539399e+03, 2.16187573e+02, 9.11409201e-03]),\n",
       " -694.9945609679417)"
      ]
     },
     "execution_count": 58,
     "metadata": {},
     "output_type": "execute_result"
    }
   ],
   "source": [
    "from sklearn.linear_model import LinearRegression\n",
    "\n",
    "ols = LinearRegression()\n",
    "ols.fit(df[[\" Salary\", \"NumPerformanceReview\", \" OvertimeWorked \", \"SalaryOvertime\"]], df[\"Bonus\"])\n",
    "ols.coef_, ols.intercept_"
   ]
  },
  {
   "cell_type": "markdown",
   "metadata": {
    "collapsed": false
   },
   "source": [
    "Answer here:\n",
    "\n",
    "- $\\beta_0 = 1.03950122e-01$\n",
    "- $\\beta_1 = 4.66539399e+03$\n",
    "- $\\beta_2 = 2.16187573e+02$\n",
    "- $\\beta_3 = 9.11409201e-03$\n",
    "- $\\beta_4 = -694.9945609679417$"
   ]
  },
  {
   "cell_type": "markdown",
   "metadata": {
    "collapsed": false
   },
   "source": [
    "## Problem 3: Bias Variance Tradeoff and Overengineering (Lecture 19, Participation Check 2)\n",
    "\n",
    "The file `hypotheticalData.csv` contains a made up data set. There are 20 rows in the data set; each row is simply a (x,y) pair. The purpose of this question is to test how well various regressions can \"predict\" this data set, and to introduce the \"bias-variance\" tradeoff. Below are import statements which could be useful:"
   ]
  },
  {
   "cell_type": "code",
   "execution_count": 59,
   "metadata": {
    "collapsed": false
   },
   "outputs": [],
   "source": [
    "from sklearn.linear_model import LinearRegression\n",
    "from sklearn.metrics import mean_squared_error\n",
    "import matplotlib.pyplot as plt"
   ]
  },
  {
   "cell_type": "markdown",
   "metadata": {
    "collapsed": false
   },
   "source": [
    "The data has been read into a pandas DataFrame below."
   ]
  },
  {
   "cell_type": "code",
   "execution_count": 60,
   "metadata": {
    "collapsed": false
   },
   "outputs": [
    {
     "data": {
      "text/html": [
       "<div>\n",
       "<style scoped>\n",
       "    .dataframe tbody tr th:only-of-type {\n",
       "        vertical-align: middle;\n",
       "    }\n",
       "\n",
       "    .dataframe tbody tr th {\n",
       "        vertical-align: top;\n",
       "    }\n",
       "\n",
       "    .dataframe thead th {\n",
       "        text-align: right;\n",
       "    }\n",
       "</style>\n",
       "<table border=\"1\" class=\"dataframe\">\n",
       "  <thead>\n",
       "    <tr style=\"text-align: right;\">\n",
       "      <th></th>\n",
       "      <th>x</th>\n",
       "      <th>y</th>\n",
       "    </tr>\n",
       "  </thead>\n",
       "  <tbody>\n",
       "    <tr>\n",
       "      <th>0</th>\n",
       "      <td>-3.266374</td>\n",
       "      <td>5.704526</td>\n",
       "    </tr>\n",
       "    <tr>\n",
       "      <th>1</th>\n",
       "      <td>2.642212</td>\n",
       "      <td>8.546550</td>\n",
       "    </tr>\n",
       "    <tr>\n",
       "      <th>2</th>\n",
       "      <td>-7.706226</td>\n",
       "      <td>24.469135</td>\n",
       "    </tr>\n",
       "    <tr>\n",
       "      <th>3</th>\n",
       "      <td>-0.375630</td>\n",
       "      <td>2.718977</td>\n",
       "    </tr>\n",
       "    <tr>\n",
       "      <th>4</th>\n",
       "      <td>6.581119</td>\n",
       "      <td>28.876682</td>\n",
       "    </tr>\n",
       "  </tbody>\n",
       "</table>\n",
       "</div>"
      ],
      "text/plain": [
       "          x          y\n",
       "0 -3.266374   5.704526\n",
       "1  2.642212   8.546550\n",
       "2 -7.706226  24.469135\n",
       "3 -0.375630   2.718977\n",
       "4  6.581119  28.876682"
      ]
     },
     "execution_count": 60,
     "metadata": {},
     "output_type": "execute_result"
    }
   ],
   "source": [
    "df = pd.read_csv('hypotheticalData.csv')\n",
    "df.head()"
   ]
  },
  {
   "cell_type": "markdown",
   "metadata": {
    "collapsed": false
   },
   "source": [
    "a.)\n",
    "\n",
    "Make and display a scatter plot of the data set. Then create a *training data set* and a *testing data set*. The training data set should consist of the *first 15 rows* of `df`, and the *testing data set* should consist of the *last 5 rows* of `df` (don't use Scikit Learn's train test split function)."
   ]
  },
  {
   "cell_type": "code",
   "execution_count": 61,
   "metadata": {
    "collapsed": false
   },
   "outputs": [
    {
     "data": {
      "image/png": "[encoded data removed]",
      "text/plain": [
       "<Figure size 864x504 with 1 Axes>"
      ]
     },
     "execution_count": 61,
     "metadata": {
      "image/png": {
       "height": 424,
       "width": 717
      },
      "needs_background": "light"
     },
     "output_type": "execute_result"
    }
   ],
   "source": [
    "df.plot(kind = \"scatter\", x = \"x\", y = \"y\")\n",
    "training = df.loc[:14]\n",
    "testing = df.loc[15:]"
   ]
  },
  {
   "cell_type": "markdown",
   "metadata": {
    "collapsed": false
   },
   "source": [
    "b.) Using Scikit Learn, create a *linear regression* on the *training data set*. The *explanatory variable* should be x, and the *explained variable* should be y. Using Scikit Learn's `mean_squared_error` function, measure the total mean squared error of the model on *both the training set and the testing set*"
   ]
  },
  {
   "cell_type": "code",
   "execution_count": 64,
   "metadata": {
    "collapsed": false
   },
   "outputs": [
    {
     "name": "stdout",
     "output_type": "stream",
     "text": [
      "362.5647583801212\n",
      "159.76155110221953\n"
     ]
    }
   ],
   "source": [
    "explanatory = [] \n",
    "ols = LinearRegression()\n",
    "ols.fit(training[[\"x\"]], training[\"y\"])\n",
    "predict_train = ols.predict(training[[\"x\"]])\n",
    "predict_test = ols.predict(testing[[\"x\"]])\n",
    "print(mean_squared_error(predict_train, training[[\"y\"]]))\n",
    "print(mean_squared_error(predict_test, testing[[\"y\"]]))"
   ]
  },
  {
   "cell_type": "markdown",
   "metadata": {
    "collapsed": false
   },
   "source": [
    "Your answer here:\n",
    "- training error: 362.5647583801212\n",
    "- testing error: 159.76155110221953"
   ]
  },
  {
   "cell_type": "markdown",
   "metadata": {
    "collapsed": false
   },
   "source": [
    "c.) Create two new data sets, `quadraticTrain` and `quadraticTest`, which equal your training and testing dataframes respectively, but with an *added column* equal to the *square* of the x-variable. Repeat part b.) for this new data set; explicitly, train a linear model on `quadraticTrain`, where you predict $y$ based on $x$ and the new $x^2$ column, and then compute the mean squared error of this model on both `quadraticTrain` and `quadraticTest`."
   ]
  },
  {
   "cell_type": "code",
   "execution_count": 68,
   "metadata": {
    "collapsed": false
   },
   "outputs": [
    {
     "name": "stdout",
     "output_type": "stream",
     "text": [
      "0.9054139984549651\n",
      "0.12599120326593286\n"
     ]
    }
   ],
   "source": [
    "quadraticTrain = training.copy()\n",
    "quadraticTest = testing.copy()\n",
    "quadraticTrain[\"x^2\"] = training[\"x\"]**2\n",
    "quadraticTest[\"x^2\"] = testing[\"x\"]**2\n",
    "ols.fit(quadraticTrain[[\"x\", \"x^2\"]], quadtraticTrain[\"y\"])\n",
    "print(mean_squared_error(ols.predict(quadraticTrain[[\"x\", \"x^2\"]]), quadraticTrain[[\"y\"]]))\n",
    "print(mean_squared_error(ols.predict(quadraticTest[[\"x\", \"x^2\"]]), quadraticTest[[\"y\"]]))"
   ]
  },
  {
   "cell_type": "markdown",
   "metadata": {
    "collapsed": false
   },
   "source": [
    "Your answer here:\n",
    "- training error: 0.9054139984549651\n",
    "- testing error: 0.12599120326593286"
   ]
  },
  {
   "cell_type": "markdown",
   "metadata": {
    "collapsed": false
   },
   "source": [
    "d.) Finally, create two new data sets `overengineeredTrain` and `overengineeredTest` which equal your original training and testing dataframes, but with *many new columns* equal to `x**2, x**3, ..., x**12`. Repeat part b.) on this new data set; explicitly, train a linear model on `overengineeredTrain,` where you predict $y$ based on $x, x^2,\\dots,x^{12}$, and then compute the mean squared error of this model on both `overengineeredTrain` and `overengineeredTest`. \n",
    "\n",
    "(Hints: You can use a for loop to add many columns to a dataframe. To regress on a lot of columns of a DataFrame, it may be helpful to use iloc. But you can also just handcode it in; either works)"
   ]
  },
  {
   "cell_type": "code",
   "execution_count": 82,
   "metadata": {
    "collapsed": false
   },
   "outputs": [
    {
     "name": "stdout",
     "output_type": "stream",
     "text": [
      "0.29860517201626074\n",
      "96976.7612977168\n"
     ]
    }
   ],
   "source": [
    "from numpy import r_\n",
    "\n",
    "overengineeredTrain = training.copy()\n",
    "overengineeredTest = testing.copy()\n",
    "\n",
    "for i in range(2,13):\n",
    "    overengineeredTrain[\"x^{}\".format(i)] = training[\"x\"]**i\n",
    "    overengineeredTest[\"x^{}\".format(i)] = testing[\"x\"]**i\n",
    "\n",
    "ols.fit(overengineeredTrain.iloc[:, r_[0, 2:13]], overengineeredTrain[\"y\"])\n",
    "print(mean_squared_error(ols.predict(overengineeredTrain.iloc[:, r_[0, 2:13]]), overengineeredTrain[[\"y\"]]))\n",
    "print(mean_squared_error(ols.predict(overengineeredTest.iloc[:, r_[0, 2:13]]), overengineeredTest[[\"y\"]]))"
   ]
  },
  {
   "cell_type": "markdown",
   "metadata": {
    "collapsed": false
   },
   "source": [
    "Your answer here:\n",
    "- training error: 0.29860517201626074\n",
    "- testing error: 96976.7612977168"
   ]
  },
  {
   "cell_type": "markdown",
   "metadata": {
    "collapsed": false
   },
   "source": [
    "e.) Which of the three models you calculated would you \"trust\" most to make predictions on a new (previously unseen) dataset? I.e. if someone gave you a \"random\" x value which you hadn't seen before, but which fit into the context of the original data set, which model would you use to predict the corresponding y value?"
   ]
  },
  {
   "cell_type": "markdown",
   "metadata": {
    "collapsed": false
   },
   "source": [
    "Your answer here: I would trust the qaudratic model considering it's error is the lowest by far. "
   ]
  },
  {
   "cell_type": "markdown",
   "metadata": {
    "collapsed": false
   },
   "source": [
    "## Problem 4: Hypothesis Testing, or, Are NBA Players *Really* Really Tall? (Lecture 19)\n",
    "\n",
    "The National Basketball Association is America's professional basketball league. A common saying is that you \"have to\" be very tall to play professional basketball, although there are some notable exceptions (Muggsy Bogues was the shortest player to ever play in the league at 160 cm tall (5 ft 3 inches) and Spud Webb *won the freaking slam dunk competition in 1986 at only 170 cm tall (5 ft 7 inches)*; the runner up, Dominique Wilkins, was *33 cm (13 inches) taller* than Spud).\n",
    "\n",
    "In the directory of this assignment there are three csv files, `NBA97.csv`, `NBA18.csv`, and `normal.csv`. The data sets contain information on the heights of\n",
    "- the NBA players from the 1997-1998 season\n",
    "- the NBA players from the 2018-2019 season\n",
    "- \"normal\" humans\n",
    "\n",
    "\n",
    "All heights are measured in centimeters. In the NBA files, the rows contain info on player names. In the average human file, each human is just assigned a random number.\n",
    "\n",
    "These files have been read into various DataFrames below:"
   ]
  },
  {
   "cell_type": "code",
   "execution_count": 78,
   "metadata": {
    "collapsed": false
   },
   "outputs": [],
   "source": [
    "import pandas as pd\n",
    "nba97 = pd.read_csv('NBA97.csv')\n",
    "nba18 = pd.read_csv('NBA18.csv')\n",
    "norm = pd.read_csv('normal.csv')"
   ]
  },
  {
   "cell_type": "code",
   "execution_count": 79,
   "metadata": {
    "collapsed": false
   },
   "outputs": [
    {
     "data": {
      "text/html": [
       "<div>\n",
       "<style scoped>\n",
       "    .dataframe tbody tr th:only-of-type {\n",
       "        vertical-align: middle;\n",
       "    }\n",
       "\n",
       "    .dataframe tbody tr th {\n",
       "        vertical-align: top;\n",
       "    }\n",
       "\n",
       "    .dataframe thead th {\n",
       "        text-align: right;\n",
       "    }\n",
       "</style>\n",
       "<table border=\"1\" class=\"dataframe\">\n",
       "  <thead>\n",
       "    <tr style=\"text-align: right;\">\n",
       "      <th></th>\n",
       "      <th>player_name</th>\n",
       "      <th>player_height</th>\n",
       "    </tr>\n",
       "  </thead>\n",
       "  <tbody>\n",
       "    <tr>\n",
       "      <th>392</th>\n",
       "      <td>Michael Jordan</td>\n",
       "      <td>198.12</td>\n",
       "    </tr>\n",
       "  </tbody>\n",
       "</table>\n",
       "</div>"
      ],
      "text/plain": [
       "        player_name  player_height\n",
       "392  Michael Jordan         198.12"
      ]
     },
     "execution_count": 79,
     "metadata": {},
     "output_type": "execute_result"
    }
   ],
   "source": [
    "nba97.loc[nba97['player_name'] == 'Michael Jordan']"
   ]
  },
  {
   "cell_type": "code",
   "execution_count": 80,
   "metadata": {
    "collapsed": false
   },
   "outputs": [
    {
     "data": {
      "text/html": [
       "<div>\n",
       "<style scoped>\n",
       "    .dataframe tbody tr th:only-of-type {\n",
       "        vertical-align: middle;\n",
       "    }\n",
       "\n",
       "    .dataframe tbody tr th {\n",
       "        vertical-align: top;\n",
       "    }\n",
       "\n",
       "    .dataframe thead th {\n",
       "        text-align: right;\n",
       "    }\n",
       "</style>\n",
       "<table border=\"1\" class=\"dataframe\">\n",
       "  <thead>\n",
       "    <tr style=\"text-align: right;\">\n",
       "      <th></th>\n",
       "      <th>player_name</th>\n",
       "      <th>player_height</th>\n",
       "    </tr>\n",
       "  </thead>\n",
       "  <tbody>\n",
       "    <tr>\n",
       "      <th>393</th>\n",
       "      <td>Kevin Durant</td>\n",
       "      <td>205.74</td>\n",
       "    </tr>\n",
       "  </tbody>\n",
       "</table>\n",
       "</div>"
      ],
      "text/plain": [
       "      player_name  player_height\n",
       "393  Kevin Durant         205.74"
      ]
     },
     "execution_count": 80,
     "metadata": {},
     "output_type": "execute_result"
    }
   ],
   "source": [
    "nba18.loc[nba18['player_name'] == 'Kevin Durant']"
   ]
  },
  {
   "cell_type": "code",
   "execution_count": 81,
   "metadata": {
    "collapsed": false
   },
   "outputs": [
    {
     "data": {
      "text/html": [
       "<div>\n",
       "<style scoped>\n",
       "    .dataframe tbody tr th:only-of-type {\n",
       "        vertical-align: middle;\n",
       "    }\n",
       "\n",
       "    .dataframe tbody tr th {\n",
       "        vertical-align: top;\n",
       "    }\n",
       "\n",
       "    .dataframe thead th {\n",
       "        text-align: right;\n",
       "    }\n",
       "</style>\n",
       "<table border=\"1\" class=\"dataframe\">\n",
       "  <thead>\n",
       "    <tr style=\"text-align: right;\">\n",
       "      <th></th>\n",
       "      <th>person</th>\n",
       "      <th>cm</th>\n",
       "    </tr>\n",
       "  </thead>\n",
       "  <tbody>\n",
       "    <tr>\n",
       "      <th>0</th>\n",
       "      <td>8766</td>\n",
       "      <td>170.950521</td>\n",
       "    </tr>\n",
       "    <tr>\n",
       "      <th>1</th>\n",
       "      <td>6458</td>\n",
       "      <td>164.469917</td>\n",
       "    </tr>\n",
       "    <tr>\n",
       "      <th>2</th>\n",
       "      <td>8412</td>\n",
       "      <td>158.179644</td>\n",
       "    </tr>\n",
       "    <tr>\n",
       "      <th>3</th>\n",
       "      <td>7790</td>\n",
       "      <td>159.635501</td>\n",
       "    </tr>\n",
       "    <tr>\n",
       "      <th>4</th>\n",
       "      <td>5688</td>\n",
       "      <td>159.312228</td>\n",
       "    </tr>\n",
       "  </tbody>\n",
       "</table>\n",
       "</div>"
      ],
      "text/plain": [
       "   person          cm\n",
       "0    8766  170.950521\n",
       "1    6458  164.469917\n",
       "2    8412  158.179644\n",
       "3    7790  159.635501\n",
       "4    5688  159.312228"
      ]
     },
     "execution_count": 81,
     "metadata": {},
     "output_type": "execute_result"
    }
   ],
   "source": [
    "norm.head()"
   ]
  },
  {
   "cell_type": "markdown",
   "metadata": {
    "collapsed": false
   },
   "source": [
    "a.) \n",
    "\n",
    "The first two parts of this problem will determine if NBA players have \"gotten taller\" over time. Since there are more players in the 2018-2019 season than there were in the 1997-1998 season, we will need to first take a random sample of the players in NBA18. Create a dataframe `random18` consisting of a random sample of 441 players from the 2018-2019 season."
   ]
  },
  {
   "cell_type": "code",
   "execution_count": 83,
   "metadata": {
    "collapsed": false
   },
   "outputs": [
    {
     "data": {
      "text/html": [
       "<div>\n",
       "<style scoped>\n",
       "    .dataframe tbody tr th:only-of-type {\n",
       "        vertical-align: middle;\n",
       "    }\n",
       "\n",
       "    .dataframe tbody tr th {\n",
       "        vertical-align: top;\n",
       "    }\n",
       "\n",
       "    .dataframe thead th {\n",
       "        text-align: right;\n",
       "    }\n",
       "</style>\n",
       "<table border=\"1\" class=\"dataframe\">\n",
       "  <thead>\n",
       "    <tr style=\"text-align: right;\">\n",
       "      <th></th>\n",
       "      <th>player_name</th>\n",
       "      <th>player_height</th>\n",
       "    </tr>\n",
       "  </thead>\n",
       "  <tbody>\n",
       "    <tr>\n",
       "      <th>27</th>\n",
       "      <td>Grayson Allen</td>\n",
       "      <td>195.58</td>\n",
       "    </tr>\n",
       "    <tr>\n",
       "      <th>250</th>\n",
       "      <td>Danuel House Jr.</td>\n",
       "      <td>200.66</td>\n",
       "    </tr>\n",
       "    <tr>\n",
       "      <th>70</th>\n",
       "      <td>Jerami Grant</td>\n",
       "      <td>205.74</td>\n",
       "    </tr>\n",
       "    <tr>\n",
       "      <th>68</th>\n",
       "      <td>Jeff Green</td>\n",
       "      <td>205.74</td>\n",
       "    </tr>\n",
       "    <tr>\n",
       "      <th>41</th>\n",
       "      <td>E'Twaun Moore</td>\n",
       "      <td>193.04</td>\n",
       "    </tr>\n",
       "  </tbody>\n",
       "</table>\n",
       "</div>"
      ],
      "text/plain": [
       "          player_name  player_height\n",
       "27      Grayson Allen         195.58\n",
       "250  Danuel House Jr.         200.66\n",
       "70       Jerami Grant         205.74\n",
       "68         Jeff Green         205.74\n",
       "41      E'Twaun Moore         193.04"
      ]
     },
     "execution_count": 83,
     "metadata": {},
     "output_type": "execute_result"
    }
   ],
   "source": [
    "random18 = nba18.sample(n=441)\n",
    "random18.head()"
   ]
  },
  {
   "cell_type": "markdown",
   "metadata": {
    "collapsed": false
   },
   "source": [
    "Next, create a histogram which simultaneously displays the heights in `nba97` and in `random18`, as in the frog example of Lecture 19. I have already set up the correct 'bins'; you will simply need to finish the pyplot syntax."
   ]
  },
  {
   "cell_type": "code",
   "execution_count": 91,
   "metadata": {
    "collapsed": false
   },
   "outputs": [
    {
     "data": {
      "text/plain": [
       "<matplotlib.legend.Legend at 0x7f932cb828b0>"
      ]
     },
     "execution_count": 91,
     "metadata": {},
     "output_type": "execute_result"
    },
    {
     "data": {
      "image/png": "[encoded data removed]",
      "text/plain": [
       "<Figure size 864x504 with 1 Axes>"
      ]
     },
     "execution_count": 91,
     "metadata": {
      "image/png": {
       "height": 411,
       "width": 710
      },
      "needs_background": "light"
     },
     "output_type": "execute_result"
    }
   ],
   "source": [
    "from matplotlib import pyplot\n",
    "import numpy\n",
    "bins = numpy.linspace(160, 240, 15)\n",
    "\n",
    "plotty = pyplot.hist(nba97[\"player_height\"], bins, alpha = 0.5, label = \"1997 NBA Heights\")\n",
    "plotty += pyplot.hist(random18[\"player_height\"], bins, alpha = 0.5, label = \"2018 NBA Heights\")\n",
    "pyplot.legend(loc=\"upper left\")"
   ]
  },
  {
   "cell_type": "markdown",
   "metadata": {
    "collapsed": false
   },
   "source": [
    "b.) \n",
    "\n",
    "Using scipy.stats, perform a t-test comparing the heights in `nba97` and `random18`. What $p$ value do you obtain?"
   ]
  },
  {
   "cell_type": "code",
   "execution_count": 97,
   "metadata": {
    "collapsed": false
   },
   "outputs": [
    {
     "name": "stdout",
     "output_type": "stream",
     "text": [
      "Ttest_indResult(statistic=0.7690709636431975, pvalue=0.44205754440116996)\n"
     ]
    }
   ],
   "source": [
    "import scipy.stats\n",
    "t_test = scipy.stats.ttest_ind(nba97[\"player_height\"], random18[\"player_height\"])\n",
    "print(t_test)"
   ]
  },
  {
   "cell_type": "markdown",
   "metadata": {
    "collapsed": false
   },
   "source": [
    "Your answer here: The pvalue is around 0.44, so this means we can not conclude there is a difference in the heights."
   ]
  },
  {
   "cell_type": "markdown",
   "metadata": {
    "collapsed": false
   },
   "source": [
    "c.) \n",
    "\n",
    "The final two parts of this problem will compare NBA players to the general population. We will choose to compare `nba18` to `norm` (a similar story would be told if you used `nba97`).\n",
    "\n",
    "As in part a.), the number of entries in these frames is not the same. Create a random sample of 530 entries from norm and put it into a `randomNorm` dataframe."
   ]
  },
  {
   "cell_type": "code",
   "execution_count": 93,
   "metadata": {
    "collapsed": false
   },
   "outputs": [
    {
     "data": {
      "text/html": [
       "<div>\n",
       "<style scoped>\n",
       "    .dataframe tbody tr th:only-of-type {\n",
       "        vertical-align: middle;\n",
       "    }\n",
       "\n",
       "    .dataframe tbody tr th {\n",
       "        vertical-align: top;\n",
       "    }\n",
       "\n",
       "    .dataframe thead th {\n",
       "        text-align: right;\n",
       "    }\n",
       "</style>\n",
       "<table border=\"1\" class=\"dataframe\">\n",
       "  <thead>\n",
       "    <tr style=\"text-align: right;\">\n",
       "      <th></th>\n",
       "      <th>person</th>\n",
       "      <th>cm</th>\n",
       "    </tr>\n",
       "  </thead>\n",
       "  <tbody>\n",
       "    <tr>\n",
       "      <th>638</th>\n",
       "      <td>1697</td>\n",
       "      <td>173.131852</td>\n",
       "    </tr>\n",
       "    <tr>\n",
       "      <th>83</th>\n",
       "      <td>844</td>\n",
       "      <td>181.678701</td>\n",
       "    </tr>\n",
       "    <tr>\n",
       "      <th>147</th>\n",
       "      <td>1375</td>\n",
       "      <td>161.058728</td>\n",
       "    </tr>\n",
       "    <tr>\n",
       "      <th>105</th>\n",
       "      <td>6387</td>\n",
       "      <td>161.283151</td>\n",
       "    </tr>\n",
       "    <tr>\n",
       "      <th>693</th>\n",
       "      <td>2342</td>\n",
       "      <td>173.634583</td>\n",
       "    </tr>\n",
       "  </tbody>\n",
       "</table>\n",
       "</div>"
      ],
      "text/plain": [
       "     person          cm\n",
       "638    1697  173.131852\n",
       "83      844  181.678701\n",
       "147    1375  161.058728\n",
       "105    6387  161.283151\n",
       "693    2342  173.634583"
      ]
     },
     "execution_count": 93,
     "metadata": {},
     "output_type": "execute_result"
    }
   ],
   "source": [
    "randomNorm = norm.sample(n=530)\n",
    "randomNorm.head()"
   ]
  },
  {
   "cell_type": "markdown",
   "metadata": {
    "collapsed": false
   },
   "source": [
    "Next, create a histogram which simultaneously displays the heights in `nba18` and in `randomNorm`, as in the frog example of Lecture 19. I have already set up the correct 'bins'; you will simply need to finish the pyplot syntax."
   ]
  },
  {
   "cell_type": "code",
   "execution_count": 95,
   "metadata": {
    "collapsed": false
   },
   "outputs": [
    {
     "data": {
      "text/plain": [
       "<matplotlib.legend.Legend at 0x7f932ca0b8e0>"
      ]
     },
     "execution_count": 95,
     "metadata": {},
     "output_type": "execute_result"
    },
    {
     "data": {
      "image/png": "[encoded data removed]",
      "text/plain": [
       "<Figure size 864x504 with 1 Axes>"
      ]
     },
     "execution_count": 95,
     "metadata": {
      "image/png": {
       "height": 411,
       "width": 710
      },
      "needs_background": "light"
     },
     "output_type": "execute_result"
    }
   ],
   "source": [
    "from matplotlib import pyplot\n",
    "import numpy\n",
    "bins = numpy.linspace(140, 240, 20)\n",
    "\n",
    "plotty = pyplot.hist(norm[\"cm\"], bins, alpha = 0.5, label = \"Normal People Heights\")\n",
    "plotty += pyplot.hist(nba18[\"player_height\"], bins, alpha = 0.5, label = \"All 2018 NBA Heights\")\n",
    "pyplot.legend(loc=\"upper left\")"
   ]
  },
  {
   "cell_type": "markdown",
   "metadata": {
    "collapsed": false
   },
   "source": [
    "d.)\n",
    "\n",
    "Using scipy.stats, perform a t-test comparing the heights in `nba18` and `randomNorm`. What $p$ value do you obtain?"
   ]
  },
  {
   "cell_type": "code",
   "execution_count": 98,
   "metadata": {
    "collapsed": false
   },
   "outputs": [
    {
     "name": "stdout",
     "output_type": "stream",
     "text": [
      "Ttest_indResult(statistic=63.68202746837539, pvalue=0.0)\n"
     ]
    }
   ],
   "source": [
    "import scipy.stats\n",
    "t_test1 = scipy.stats.ttest_ind(nba18[\"player_height\"], norm[\"cm\"])\n",
    "print(t_test1)"
   ]
  },
  {
   "cell_type": "markdown",
   "metadata": {
    "collapsed": false
   },
   "source": [
    "Your answer here: The pvalue is 0.0, meaning that it is very clear that the heights are different, and by the histogram we can tell that obviously NBA18 player heights are much greater than the heights of average humans. "
   ]
  },
  {
   "cell_type": "markdown",
   "metadata": {
    "collapsed": false
   },
   "source": [
    "## Problem 5: Simpson's Paradox (Lecture NaN; just use your thinking)\n",
    "\n",
    "Simpson's paradox is very cool.\n",
    "\n",
    "a.)\n",
    "\n",
    "This example is (essentially) taken from this research article: https://www.ncbi.nlm.nih.gov/pmc/articles/PMC1339981/\n",
    "\n",
    "A drug company is testing two treatments for kidney stones to see which treatment is most effective. The drug company tests each treatment on 350 individuals. After the experimentation, the company noticed that the drug had different effects on people with *large kidney stones* compared to people with *small kidney stones*. The success rate of each treatment is summarized below:\n",
    "\n",
    "\\;\\; | Treatment A     | Treatment B |\n",
    "------| ----------- | ----------- |\n",
    "Small Stones| 81 cured out of 87    |    234 cured out of 270 |\n",
    "Large Stones| 192 cured out of 263  | 55 cured out of 80      |\n",
    "\n",
    "\n",
    "Compute the success rate (as a percentage) for the different treatments on: Large Stones, Small Stones, and Kidney Stones in general. Enter your answers into the partially filled markdown cell below:"
   ]
  },
  {
   "cell_type": "code",
   "execution_count": 1,
   "metadata": {
    "collapsed": false
   },
   "outputs": [
    {
     "name": "stdout",
     "output_type": "stream",
     "text": [
      "Treatment A: Small Stone Success Rate: 0.9310344827586207\n",
      "Treatment A: Large Stone Success Rate: 0.7300380228136882\n",
      "Treatment B: Small Stone Success Rate: 0.8666666666666667\n",
      "Treatment B: Large Stone Success Rate: 0.6875\n",
      "Treatment A Success Rate:  0.78\n",
      "Treatment B Success Rate: 0.8257142857142857\n"
     ]
    }
   ],
   "source": [
    "print(\"Treatment A: Small Stone Success Rate:\", float(81/87))\n",
    "print(\"Treatment A: Large Stone Success Rate:\", float(192/263))\n",
    "print(\"Treatment B: Small Stone Success Rate:\", float(234/270))\n",
    "print(\"Treatment B: Large Stone Success Rate:\", float(55/80))\n",
    "print(\"Treatment A Success Rate: \", float((81+192)/(87+263)))\n",
    "print(\"Treatment B Success Rate:\", float((234+55)/(270+80)))"
   ]
  },
  {
   "cell_type": "markdown",
   "metadata": {
    "collapsed": false
   },
   "source": [
    "Answer here:\n",
    "\n",
    "\\;\\; | Treatment A     | Treatment B |\n",
    "------| ----------- | ----------- |\n",
    "Small Stone Success Rate| 93.10344827586207%|86.66666666666667%\n",
    "Large Stone Success Rate| 73.00380228136882%|68.75%\n",
    "Total Success Rate| 78%|82.57142857142857%"
   ]
  },
  {
   "cell_type": "markdown",
   "metadata": {
    "collapsed": false
   },
   "source": [
    "b.) \n",
    "\n",
    "If you were a doctor, which treatment plan would you recommend to a patient that had kidney stones? Why?"
   ]
  },
  {
   "cell_type": "markdown",
   "metadata": {
    "collapsed": false
   },
   "source": [
    "Your answer here: I would recommend Treatment B to the patient due to the higher total success rate. "
   ]
  },
  {
   "cell_type": "markdown",
   "metadata": {
    "collapsed": false
   },
   "source": [
    "c.) \n",
    "\n",
    "There is a different form of Simpson's paradox displayed with the following made up example.\n",
    "\n",
    "Consider the data sets `data1`, `data2`, and `data` defined below. The points in `data` have been plotted for you:"
   ]
  },
  {
   "cell_type": "code",
   "execution_count": 2,
   "metadata": {
    "collapsed": false
   },
   "outputs": [
    {
     "data": {
      "text/plain": [
       "<matplotlib.collections.PathCollection at 0x7f711df96430>"
      ]
     },
     "execution_count": 2,
     "metadata": {},
     "output_type": "execute_result"
    },
    {
     "data": {
      "image/png": "[encoded data removed]",
      "text/plain": [
       "<Figure size 864x504 with 1 Axes>"
      ]
     },
     "execution_count": 2,
     "metadata": {
      "image/png": {
       "height": 411,
       "width": 697
      },
      "needs_background": "light"
     },
     "output_type": "execute_result"
    }
   ],
   "source": [
    "from matplotlib import pyplot\n",
    "data1 = [(1,6),(1.2,6.3),(3,8)]\n",
    "data2 = [(6,.1),(6.8,.4),(8,2)]\n",
    "data = data1+data2\n",
    "pyplot.scatter([i[0] for i in data], [i[1] for i in data])"
   ]
  },
  {
   "cell_type": "markdown",
   "metadata": {
    "collapsed": false
   },
   "source": [
    "Suppose you ran three linear regressions to predict y based on the explanatory variable x: one based on `data1`, one based on `data2`, and one based on `data`. Which models would result in lines with a *positive* slope? (You do not have to actually compute the regressions unless you want to)"
   ]
  },
  {
   "cell_type": "markdown",
   "metadata": {
    "collapsed": false
   },
   "source": [
    "Your answer here: data1 and data2 would have positive slopes, but data would have a negative slope because the linear regression model would attempt to find the smallest average distance between the line and the points. "
   ]
  }
 ],
 "metadata": {
  "kernelspec": {
   "display_name": "Python 3 (system-wide)",
   "language": "python",
   "metadata": {
    "cocalc": {
     "description": "Python 3 programming language",
     "priority": 100,
     "url": "https://www.python.org/"
    }
   },
   "name": "python3",
   "resource_dir": "/ext/jupyter/kernels/python3"
  },
  "language_info": {
   "codemirror_mode": {
    "name": "ipython",
    "version": 3
   },
   "file_extension": ".py",
   "mimetype": "text/x-python",
   "name": "python",
   "nbconvert_exporter": "python",
   "pygments_lexer": "ipython3",
   "version": "3.8.5"
  }
 },
 "nbformat": 4,
 "nbformat_minor": 4
}
